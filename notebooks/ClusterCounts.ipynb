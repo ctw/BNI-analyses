{
 "cells": [
  {
   "cell_type": "code",
   "id": "initial_id",
   "metadata": {
    "collapsed": true,
    "ExecuteTime": {
     "end_time": "2024-10-23T18:07:00.863599Z",
     "start_time": "2024-10-23T18:07:00.384308Z"
    }
   },
   "source": "import pandas as pd",
   "outputs": [],
   "execution_count": 1
  },
  {
   "metadata": {
    "ExecuteTime": {
     "end_time": "2024-10-23T18:08:33.219386Z",
     "start_time": "2024-10-23T18:08:33.206592Z"
    }
   },
   "cell_type": "code",
   "source": "aclusts = pd.read_csv('../results/analyzedClusters.txt', sep='\\t')",
   "id": "1dd5d2a27c074c62",
   "outputs": [],
   "execution_count": 5
  },
  {
   "metadata": {
    "ExecuteTime": {
     "end_time": "2024-10-23T18:08:41.026829Z",
     "start_time": "2024-10-23T18:08:41.011863Z"
    }
   },
   "cell_type": "code",
   "source": "aclusts.describe()",
   "id": "4961379a8ece6572",
   "outputs": [
    {
     "data": {
      "text/plain": [
       "          expstr cluster_id hemisphere   area    quality expType\n",
       "count      22124      22124      22124  22005      22124   22124\n",
       "unique       241        601          2      6          2       7\n",
       "top     s12e16sc    ch12cl2          L      H  POTENTIAL      rb\n",
       "freq         248        121      12106   6338      15306    5033"
      ],
      "text/html": [
       "<div>\n",
       "<style scoped>\n",
       "    .dataframe tbody tr th:only-of-type {\n",
       "        vertical-align: middle;\n",
       "    }\n",
       "\n",
       "    .dataframe tbody tr th {\n",
       "        vertical-align: top;\n",
       "    }\n",
       "\n",
       "    .dataframe thead th {\n",
       "        text-align: right;\n",
       "    }\n",
       "</style>\n",
       "<table border=\"1\" class=\"dataframe\">\n",
       "  <thead>\n",
       "    <tr style=\"text-align: right;\">\n",
       "      <th></th>\n",
       "      <th>expstr</th>\n",
       "      <th>cluster_id</th>\n",
       "      <th>hemisphere</th>\n",
       "      <th>area</th>\n",
       "      <th>quality</th>\n",
       "      <th>expType</th>\n",
       "    </tr>\n",
       "  </thead>\n",
       "  <tbody>\n",
       "    <tr>\n",
       "      <th>count</th>\n",
       "      <td>22124</td>\n",
       "      <td>22124</td>\n",
       "      <td>22124</td>\n",
       "      <td>22005</td>\n",
       "      <td>22124</td>\n",
       "      <td>22124</td>\n",
       "    </tr>\n",
       "    <tr>\n",
       "      <th>unique</th>\n",
       "      <td>241</td>\n",
       "      <td>601</td>\n",
       "      <td>2</td>\n",
       "      <td>6</td>\n",
       "      <td>2</td>\n",
       "      <td>7</td>\n",
       "    </tr>\n",
       "    <tr>\n",
       "      <th>top</th>\n",
       "      <td>s12e16sc</td>\n",
       "      <td>ch12cl2</td>\n",
       "      <td>L</td>\n",
       "      <td>H</td>\n",
       "      <td>POTENTIAL</td>\n",
       "      <td>rb</td>\n",
       "    </tr>\n",
       "    <tr>\n",
       "      <th>freq</th>\n",
       "      <td>248</td>\n",
       "      <td>121</td>\n",
       "      <td>12106</td>\n",
       "      <td>6338</td>\n",
       "      <td>15306</td>\n",
       "      <td>5033</td>\n",
       "    </tr>\n",
       "  </tbody>\n",
       "</table>\n",
       "</div>"
      ]
     },
     "execution_count": 6,
     "metadata": {},
     "output_type": "execute_result"
    }
   ],
   "execution_count": 6
  },
  {
   "metadata": {
    "ExecuteTime": {
     "end_time": "2024-10-23T18:20:16.151923Z",
     "start_time": "2024-10-23T18:20:16.146908Z"
    }
   },
   "cell_type": "code",
   "source": "aclusts.groupby(['area']).size()",
   "id": "9132816b13b12455",
   "outputs": [
    {
     "data": {
      "text/plain": [
       "area\n",
       "A      6058\n",
       "AC     4049\n",
       "EC      828\n",
       "H      6338\n",
       "PF     3901\n",
       "PHC     831\n",
       "dtype: int64"
      ]
     },
     "execution_count": 13,
     "metadata": {},
     "output_type": "execute_result"
    }
   ],
   "execution_count": 13
  },
  {
   "metadata": {
    "ExecuteTime": {
     "end_time": "2024-10-23T18:25:34.803835Z",
     "start_time": "2024-10-23T18:25:34.800299Z"
    }
   },
   "cell_type": "code",
   "source": "len(aclusts)-831-828 # less PHC and EC",
   "id": "b8aa2754ba1d7deb",
   "outputs": [
    {
     "data": {
      "text/plain": [
       "20465"
      ]
     },
     "execution_count": 15,
     "metadata": {},
     "output_type": "execute_result"
    }
   ],
   "execution_count": 15
  },
  {
   "metadata": {},
   "cell_type": "code",
   "outputs": [],
   "execution_count": null,
   "source": "",
   "id": "3da585ed36897d10"
  },
  {
   "metadata": {},
   "cell_type": "code",
   "outputs": [],
   "execution_count": null,
   "source": "",
   "id": "924c985d824cee6e"
  }
 ],
 "metadata": {
  "kernelspec": {
   "display_name": "Python 3",
   "language": "python",
   "name": "python3"
  },
  "language_info": {
   "codemirror_mode": {
    "name": "ipython",
    "version": 2
   },
   "file_extension": ".py",
   "mimetype": "text/x-python",
   "name": "python",
   "nbconvert_exporter": "python",
   "pygments_lexer": "ipython2",
   "version": "2.7.6"
  }
 },
 "nbformat": 4,
 "nbformat_minor": 5
}
